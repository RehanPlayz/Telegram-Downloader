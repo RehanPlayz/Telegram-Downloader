{
  "cells": [
    {
      "cell_type": "markdown",
      "metadata": {
        "id": "view-in-github",
        "colab_type": "text"
      },
      "source": [
        "<a href=\"https://colab.research.google.com/github/RehanPlayz/Telegram-Downloader/blob/main/Telegram_Downloader.ipynb\" target=\"_parent\"><img src=\"https://colab.research.google.com/assets/colab-badge.svg\" alt=\"Open In Colab\"/></a>"
      ]
    },
    {
      "cell_type": "markdown",
      "metadata": {
        "id": "yZZL0suMJZPr"
      },
      "source": [
        "# **Telegram to Pixeldrain**\n"
      ]
    },
    {
      "cell_type": "markdown",
      "metadata": {
        "id": "gmVcHXSgJwaZ"
      },
      "source": [
        "# Install tdl\n"
      ]
    },
    {
      "cell_type": "code",
      "execution_count": null,
      "metadata": {
        "id": "D8TvFU1uFuqt"
      },
      "outputs": [],
      "source": [
        "!sh -c \"$(curl -sSL https://docs.iyear.me/tdl/install.sh)\""
      ]
    },
    {
      "cell_type": "markdown",
      "metadata": {
        "id": "N21ULim5JuY2"
      },
      "source": [
        "# Login to Telegram\n"
      ]
    },
    {
      "cell_type": "code",
      "execution_count": null,
      "metadata": {
        "id": "sn4jE0_XHWQp"
      },
      "outputs": [],
      "source": [
        "!tdl login -T qr"
      ]
    },
    {
      "cell_type": "markdown",
      "metadata": {
        "id": "OURFlek8IpvK"
      },
      "source": [
        "# Download the file (Links Seperated by Commas)"
      ]
    },
    {
      "cell_type": "code",
      "execution_count": null,
      "metadata": {
        "id": "v1KjighMGep7"
      },
      "outputs": [],
      "source": [
        "link = \"\" #@param {type:\"string\"}\n",
        "# Split the link by comma and store the list of links\n",
        "links = link.split(\",\")\n",
        "# Run the command for each link in the list\n",
        "for l in links:\n",
        "  !tdl dl -u {l}\n"
      ]
    },
    {
      "cell_type": "markdown",
      "metadata": {
        "id": "1XNCtfX0e_gu"
      },
      "source": [
        "# Create the log file"
      ]
    },
    {
      "cell_type": "code",
      "execution_count": null,
      "metadata": {
        "id": "Uv1qPVpxe5fo"
      },
      "outputs": [],
      "source": [
        "!touch upload_log.txt"
      ]
    },
    {
      "cell_type": "markdown",
      "metadata": {
        "id": "bLsjC4PmKOc_"
      },
      "source": [
        "# Upload the file to pixeldrain\n"
      ]
    },
    {
      "cell_type": "code",
      "execution_count": null,
      "metadata": {
        "id": "JV5Z-Px9IFvu"
      },
      "outputs": [],
      "source": [
        "import os\n",
        "import requests\n",
        "import tqdm\n",
        "\n",
        "# Define the name of the log file.\n",
        "log_file = \"upload_log.txt\"\n",
        "\n",
        "# Get a list of all files in the Downloads directory.\n",
        "files = os.listdir(\"/content/downloads\")\n",
        "\n",
        "# Create a progress bar object with the number of files as the total.\n",
        "progress_bar = tqdm.tqdm(total=len(files), desc=\"Uploading files\")\n",
        "\n",
        "# Iterate through the list of files.\n",
        "for file in files:\n",
        "    # Construct the full path to the file.\n",
        "    file_path = os.path.join(\"/content/downloads\", file)\n",
        "\n",
        "    # Check if the file is a regular file.\n",
        "    if os.path.isfile(file_path):\n",
        "        # Open the log file in append mode.\n",
        "        with open(log_file, \"a+\") as log:\n",
        "            # Go to the beginning of the log file.\n",
        "            log.seek(0)\n",
        "\n",
        "            # Read the log file as a list of lines.\n",
        "            log_lines = log.readlines()\n",
        "\n",
        "            # Check if the file name is already in the log file.\n",
        "            found = False\n",
        "            for line in log_lines:\n",
        "                # Split the line by whitespace.\n",
        "                line_parts = line.split()\n",
        "\n",
        "                # Check if the first part of the line matches the file name.\n",
        "                if line_parts[0] == file:\n",
        "                    # Set the found flag to True.\n",
        "                    found = True\n",
        "\n",
        "                    # Print that the file has already been uploaded and its URL.\n",
        "                    print(f\"{file} has already been uploaded to {line_parts[1]}\")\n",
        "\n",
        "                    # Break out of the loop.\n",
        "                    break\n",
        "\n",
        "            # If the file name is not found in the log file, upload it to Pixeldrain.\n",
        "            if not found:\n",
        "                # Open the file in binary mode.\n",
        "                with open(file_path, \"rb\") as f:\n",
        "                    # Upload the file to Pixeldrain.\n",
        "                    response = requests.post(\n",
        "                        \"https://pixeldrain.com/api/file\", files={\"file\": f}\n",
        "                    )\n",
        "\n",
        "                    # Get the JSON response from Pixeldrain.\n",
        "                    json_response = response.json()\n",
        "\n",
        "                    # Get the full URL to the uploaded file.\n",
        "                    file_url = f\"https://pixeldrain.com/u/{json_response['id']}\"\n",
        "\n",
        "                    # Print the full URL to the uploaded file.\n",
        "                    print(file_url)\n",
        "\n",
        "                    # Write the file name and the URL to the log file.\n",
        "                    log.write(f\"{file} {file_url}\\n\")\n",
        "\n",
        "    # Update the progress bar by one step.\n",
        "    progress_bar.update(1)\n",
        "\n",
        "# Close the progress bar.\n",
        "progress_bar.close()\n",
        "\n",
        "# Print a message.\n",
        "print(\"All files have been uploaded successfully.\")"
      ]
    }
  ],
  "metadata": {
    "colab": {
      "private_outputs": true,
      "provenance": [],
      "authorship_tag": "ABX9TyNXRbYw+1GhdPsZenvGHB7N",
      "include_colab_link": true
    },
    "kernelspec": {
      "display_name": "Python 3",
      "name": "python3"
    },
    "language_info": {
      "name": "python"
    }
  },
  "nbformat": 4,
  "nbformat_minor": 0
}